{
 "cells": [
  {
   "cell_type": "markdown",
   "metadata": {},
   "source": [
    "# Assignment On Basics Python\n",
    "### - Submitted by Aniruddha Biswas"
   ]
  },
  {
   "cell_type": "markdown",
   "metadata": {},
   "source": [
    "--------------------------------------------------------------------------------------------------------------"
   ]
  },
  {
   "cell_type": "markdown",
   "metadata": {
    "id": "dhXSYmQdDaw2"
   },
   "source": [
    "### 1. Write a program that swaps the values of two variables."
   ]
  },
  {
   "cell_type": "code",
   "execution_count": 1,
   "metadata": {
    "colab": {
     "base_uri": "https://localhost:8080/"
    },
    "executionInfo": {
     "elapsed": 4,
     "status": "ok",
     "timestamp": 1716059076932,
     "user": {
      "displayName": "aniruddha biswas",
      "userId": "07170369810705939579"
     },
     "user_tz": -330
    },
    "id": "YK4-OV98FqwL",
    "outputId": "c28312f1-4aa3-4caa-eb83-d6a7edc5c05e"
   },
   "outputs": [
    {
     "name": "stdout",
     "output_type": "stream",
     "text": [
      "Before swapping: a = 5, b = 10\n",
      "After swapping: a = 10, b = 5\n"
     ]
    }
   ],
   "source": [
    "# Program to swap the values of two variables\n",
    "a = 5\n",
    "b = 10\n",
    "\n",
    "print(f\"Before swapping: a = {a}, b = {b}\")\n",
    "\n",
    "\n",
    "temp = a\n",
    "a = b\n",
    "b = temp \n",
    "\n",
    "print(f\"After swapping: a = {a}, b = {b}\")"
   ]
  },
  {
   "cell_type": "markdown",
   "metadata": {
    "id": "Zd1FSyYADiPf"
   },
   "source": [
    "### 2. Write a program that calculates the area of a rectangle given its length and width."
   ]
  },
  {
   "cell_type": "code",
   "execution_count": 2,
   "metadata": {
    "colab": {
     "base_uri": "https://localhost:8080/"
    },
    "executionInfo": {
     "elapsed": 439,
     "status": "ok",
     "timestamp": 1716059113576,
     "user": {
      "displayName": "aniruddha biswas",
      "userId": "07170369810705939579"
     },
     "user_tz": -330
    },
    "id": "u-n2HxTvF7hL",
    "outputId": "53152821-e291-4c62-f242-d99da6f9c264"
   },
   "outputs": [
    {
     "name": "stdout",
     "output_type": "stream",
     "text": [
      "The area of the rectangle is 700\n"
     ]
    }
   ],
   "source": [
    "# Program to calculate the area of a rectangle\n",
    "length = 20\n",
    "width = 35\n",
    "\n",
    "# Calculate the area\n",
    "area = length * width\n",
    "\n",
    "print(f\"The area of the rectangle is {area}\")"
   ]
  },
  {
   "cell_type": "markdown",
   "metadata": {
    "id": "oIQ6dLyDDmBK"
   },
   "source": [
    "### 3. Write a program that converts temperature from Fahrenheit to Celsius."
   ]
  },
  {
   "cell_type": "code",
   "execution_count": 3,
   "metadata": {
    "colab": {
     "base_uri": "https://localhost:8080/"
    },
    "executionInfo": {
     "elapsed": 431,
     "status": "ok",
     "timestamp": 1716059155127,
     "user": {
      "displayName": "aniruddha biswas",
      "userId": "07170369810705939579"
     },
     "user_tz": -330
    },
    "id": "3ENRkD9CGED5",
    "outputId": "daa46d86-132c-49bd-b149-b4d9e2f5d581"
   },
   "outputs": [
    {
     "name": "stdout",
     "output_type": "stream",
     "text": [
      "98.6 Fahrenheit is 37.0 Celsius\n"
     ]
    }
   ],
   "source": [
    "# Program to convert temperature from Fahrenheit to Celsius\n",
    "fahrenheit = 98.6\n",
    "\n",
    "# Convert to Celsius\n",
    "celsius = (fahrenheit - 32) * 5/9\n",
    "\n",
    "print(f\"{fahrenheit} Fahrenheit is {celsius} Celsius\")"
   ]
  },
  {
   "cell_type": "markdown",
   "metadata": {
    "id": "mcFmo3nVDogh"
   },
   "source": [
    "### 4. Write a program that calculates the volume of a sphere given its radius."
   ]
  },
  {
   "cell_type": "code",
   "execution_count": 4,
   "metadata": {
    "colab": {
     "base_uri": "https://localhost:8080/"
    },
    "executionInfo": {
     "elapsed": 730,
     "status": "ok",
     "timestamp": 1716059173882,
     "user": {
      "displayName": "aniruddha biswas",
      "userId": "07170369810705939579"
     },
     "user_tz": -330
    },
    "id": "7ljvZeNCGNuG",
    "outputId": "cdfd5c72-778f-47bc-c980-327fc6dc15d2"
   },
   "outputs": [
    {
     "name": "stdout",
     "output_type": "stream",
     "text": [
      "The volume of the sphere with radius 15 is 14137.17\n"
     ]
    }
   ],
   "source": [
    "import math\n",
    "\n",
    "# Program to calculate the volume of a sphere given its radius\n",
    "radius = 15\n",
    "\n",
    "# Calculate the volume\n",
    "volume = (4/3) * math.pi * (radius**3)\n",
    "\n",
    "print(f\"The volume of the sphere with radius {radius} is {volume:.2f}\")"
   ]
  },
  {
   "cell_type": "markdown",
   "metadata": {
    "id": "WFbSIR03Drtf"
   },
   "source": [
    "### 5. Write a program that finds the average of three numbers."
   ]
  },
  {
   "cell_type": "code",
   "execution_count": 5,
   "metadata": {
    "colab": {
     "base_uri": "https://localhost:8080/"
    },
    "executionInfo": {
     "elapsed": 2,
     "status": "ok",
     "timestamp": 1716059202076,
     "user": {
      "displayName": "aniruddha biswas",
      "userId": "07170369810705939579"
     },
     "user_tz": -330
    },
    "id": "DkxlkkeHGU1D",
    "outputId": "d188d1d6-c28f-4bf5-8675-3151b01797b7"
   },
   "outputs": [
    {
     "name": "stdout",
     "output_type": "stream",
     "text": [
      "The average of 8, 10 & 12 is 10.0\n"
     ]
    }
   ],
   "source": [
    "# Program to find the average of three numbers\n",
    "num1 = 8\n",
    "num2 = 10\n",
    "num3 = 12\n",
    "\n",
    "# Calculate the average\n",
    "average = (num1 + num2 + num3) / 3\n",
    "\n",
    "print(f\"The average of {num1}, {num2} & {num3} is {average}\")"
   ]
  },
  {
   "cell_type": "markdown",
   "metadata": {
    "id": "jSd779zhD1R-"
   },
   "source": [
    "### 6. Write a program that determines if a number is even or odd."
   ]
  },
  {
   "cell_type": "code",
   "execution_count": 6,
   "metadata": {
    "colab": {
     "base_uri": "https://localhost:8080/"
    },
    "executionInfo": {
     "elapsed": 432,
     "status": "ok",
     "timestamp": 1716059243331,
     "user": {
      "displayName": "aniruddha biswas",
      "userId": "07170369810705939579"
     },
     "user_tz": -330
    },
    "id": "qFHdIQVsGevs",
    "outputId": "140c1847-fea1-4b3c-faf4-1156c037dc76"
   },
   "outputs": [
    {
     "name": "stdout",
     "output_type": "stream",
     "text": [
      "4 is even number.\n"
     ]
    }
   ],
   "source": [
    "# Program to determine if a number is even or odd\n",
    "number = 4\n",
    "\n",
    "if number % 2 == 0:\n",
    "    print(f\"{number} is even number.\")\n",
    "else:\n",
    "    print(f\"{number} is odd number.\")"
   ]
  },
  {
   "cell_type": "markdown",
   "metadata": {
    "id": "LZZPzR3BEXfU"
   },
   "source": [
    "### 7. Write a program that finds the maximum of three numbers."
   ]
  },
  {
   "cell_type": "code",
   "execution_count": 7,
   "metadata": {
    "colab": {
     "base_uri": "https://localhost:8080/"
    },
    "executionInfo": {
     "elapsed": 422,
     "status": "ok",
     "timestamp": 1716059280049,
     "user": {
      "displayName": "aniruddha biswas",
      "userId": "07170369810705939579"
     },
     "user_tz": -330
    },
    "id": "IjBgnBRJGnba",
    "outputId": "08830aee-0dcd-467f-f70b-744a1c9d53e2"
   },
   "outputs": [
    {
     "name": "stdout",
     "output_type": "stream",
     "text": [
      "The maximum of 3, 7 and 5 is 7\n"
     ]
    }
   ],
   "source": [
    "# Program to find the maximum of three numbers\n",
    "num1 = 3\n",
    "num2 = 7\n",
    "num3 = 5\n",
    "\n",
    "# Find the maximum\n",
    "maximum = max(num1, num2, num3)\n",
    "\n",
    "print(f\"The maximum of {num1}, {num2} and {num3} is {maximum}\")"
   ]
  },
  {
   "cell_type": "code",
   "execution_count": 8,
   "metadata": {},
   "outputs": [
    {
     "name": "stdout",
     "output_type": "stream",
     "text": [
      "The maximum of 3, 7 & 5 is 7\n"
     ]
    }
   ],
   "source": [
    "# Program to find the maximum of three numbers\n",
    "num1 = 3\n",
    "num2 = 7\n",
    "num3 = 5\n",
    "\n",
    "# Find the maximum\n",
    "if (num1>num2) and (num1>num3):\n",
    "    print(f\"The maximum of {num1}, {num2} & {num3} is {num1}\")\n",
    "elif (num2>num1) and (num2>num3):\n",
    "    print(f\"The maximum of {num1}, {num2} & {num3} is {num2}\")\n",
    "else:\n",
    "    print(f\"The maximum of {num1}, {num2} & {num3} is {num3}\")"
   ]
  },
  {
   "cell_type": "markdown",
   "metadata": {
    "id": "6_jTAumgEcza"
   },
   "source": [
    "### 8. Write a program that determines if a year is a leap year or not."
   ]
  },
  {
   "cell_type": "code",
   "execution_count": 9,
   "metadata": {
    "colab": {
     "base_uri": "https://localhost:8080/"
    },
    "executionInfo": {
     "elapsed": 417,
     "status": "ok",
     "timestamp": 1716059320651,
     "user": {
      "displayName": "aniruddha biswas",
      "userId": "07170369810705939579"
     },
     "user_tz": -330
    },
    "id": "LN7WVOgwGvQt",
    "outputId": "2d4b7bb7-a097-4ce4-e5e7-75b28db22f6c"
   },
   "outputs": [
    {
     "name": "stdout",
     "output_type": "stream",
     "text": [
      "2020 is a leap year\n"
     ]
    }
   ],
   "source": [
    "# Program to determine if a year is a leap year or not\n",
    "year = 2020\n",
    "\n",
    "if (year % 4 == 0 and year % 100 != 0) or (year % 400 == 0):\n",
    "    print(f\"{year} is a leap year\")\n",
    "else:\n",
    "    print(f\"{year} is not a leap year\")"
   ]
  },
  {
   "cell_type": "markdown",
   "metadata": {
    "id": "YQ-pyNvsEg2R"
   },
   "source": [
    "### 9. Write a program that determines if a number is positive, negative, or zero."
   ]
  },
  {
   "cell_type": "code",
   "execution_count": 10,
   "metadata": {
    "colab": {
     "base_uri": "https://localhost:8080/"
    },
    "executionInfo": {
     "elapsed": 3,
     "status": "ok",
     "timestamp": 1716059341492,
     "user": {
      "displayName": "aniruddha biswas",
      "userId": "07170369810705939579"
     },
     "user_tz": -330
    },
    "id": "v1954x3NG27l",
    "outputId": "c6a8fed8-6c0c-4ca8-99c1-c9c9fe88b51d"
   },
   "outputs": [
    {
     "name": "stdout",
     "output_type": "stream",
     "text": [
      "-3 is negative\n"
     ]
    }
   ],
   "source": [
    "# Program to determine if a number is positive, negative, or zero\n",
    "number = -3\n",
    "\n",
    "if number > 0:\n",
    "    print(f\"{number} is positive\")\n",
    "elif number < 0:\n",
    "    print(f\"{number} is negative\")\n",
    "else:\n",
    "    print(f\"{number} is zero\")"
   ]
  },
  {
   "cell_type": "markdown",
   "metadata": {
    "id": "xXN4xVoRIK5x"
   },
   "source": [
    "### 10. Write a program that calculates the grade based on a given percentage."
   ]
  },
  {
   "cell_type": "code",
   "execution_count": 11,
   "metadata": {
    "colab": {
     "base_uri": "https://localhost:8080/"
    },
    "executionInfo": {
     "elapsed": 4,
     "status": "ok",
     "timestamp": 1716059728447,
     "user": {
      "displayName": "aniruddha biswas",
      "userId": "07170369810705939579"
     },
     "user_tz": -330
    },
    "id": "q9m3IP8iISHv",
    "outputId": "9112778d-aa20-4c4f-cb68-5f9df2451902"
   },
   "outputs": [
    {
     "name": "stdout",
     "output_type": "stream",
     "text": [
      "A percentage of 77% corresponds to a grade of C\n"
     ]
    }
   ],
   "source": [
    "# Program to calculate the grade based on a given percentage\n",
    "percentage = 77\n",
    "\n",
    "if percentage >= 90:\n",
    "    grade = 'A'\n",
    "elif percentage >= 80:\n",
    "    grade = 'B'\n",
    "elif percentage >= 70:\n",
    "    grade = 'C'\n",
    "elif percentage >= 60:\n",
    "    grade = 'D'\n",
    "else:\n",
    "    grade = 'F'\n",
    "\n",
    "print(f\"A percentage of {percentage}% corresponds to a grade of {grade}\")"
   ]
  },
  {
   "cell_type": "markdown",
   "metadata": {
    "id": "ztHNe8uPEl1B"
   },
   "source": [
    "### 11. Write a program that prints the first 'n' natural numbers."
   ]
  },
  {
   "cell_type": "code",
   "execution_count": 12,
   "metadata": {
    "colab": {
     "base_uri": "https://localhost:8080/"
    },
    "executionInfo": {
     "elapsed": 423,
     "status": "ok",
     "timestamp": 1716059415599,
     "user": {
      "displayName": "aniruddha biswas",
      "userId": "07170369810705939579"
     },
     "user_tz": -330
    },
    "id": "bSthWmyDHHe9",
    "outputId": "5b665cec-b496-4ab1-af7e-b4d163070d3c"
   },
   "outputs": [
    {
     "name": "stdout",
     "output_type": "stream",
     "text": [
      "1 2 3 4 5 6 7 8 9 10 "
     ]
    }
   ],
   "source": [
    "# Program to print the first n natural numbers\n",
    "n = 10\n",
    "\n",
    "for i in range(1, n + 1):\n",
    "    print(i, end=' ')"
   ]
  },
  {
   "cell_type": "markdown",
   "metadata": {
    "id": "dY04LFFxEvzk"
   },
   "source": [
    "### 12. Write a program that calculates the factorial of a number."
   ]
  },
  {
   "cell_type": "code",
   "execution_count": 13,
   "metadata": {
    "colab": {
     "base_uri": "https://localhost:8080/"
    },
    "executionInfo": {
     "elapsed": 2,
     "status": "ok",
     "timestamp": 1716059435597,
     "user": {
      "displayName": "aniruddha biswas",
      "userId": "07170369810705939579"
     },
     "user_tz": -330
    },
    "id": "7mPvqMioHNr1",
    "outputId": "6119a7db-6722-4f06-814a-0f269eedf4a7"
   },
   "outputs": [
    {
     "name": "stdout",
     "output_type": "stream",
     "text": [
      "The factorial of 5 is 120\n"
     ]
    }
   ],
   "source": [
    "# Program to calculate the factorial of a number\n",
    "def factorial(num):\n",
    "    if num == 0:\n",
    "        return 1\n",
    "    else:\n",
    "        return num * factorial(num - 1)\n",
    "\n",
    "number = 5\n",
    "print(f\"The factorial of {number} is {factorial(number)}\")"
   ]
  },
  {
   "cell_type": "markdown",
   "metadata": {
    "id": "aWhogHEnEz5i"
   },
   "source": [
    "### 13. Write a program that generates a Fibonacci sequence of length 'n'."
   ]
  },
  {
   "cell_type": "code",
   "execution_count": 14,
   "metadata": {},
   "outputs": [
    {
     "name": "stdout",
     "output_type": "stream",
     "text": [
      "Enter Your Number: 5\n",
      "0 1 1 2 3 "
     ]
    }
   ],
   "source": [
    "# fibonacci series\n",
    "\n",
    "# Number of terms we want in the Fibonacci series\n",
    "num_terms = int(input(\"Enter Your Number: \"))\n",
    "\n",
    "# Starting values\n",
    "n1 = 0\n",
    "n2 = 1\n",
    "count = 0\n",
    "\n",
    "if num_terms <=0:\n",
    "    print('Invalid Input')\n",
    "elif num_terms ==1:\n",
    "    print(n1)\n",
    "else:\n",
    "# count Fibonacci series\n",
    "    while count < num_terms:\n",
    "        print(n1, end=' ')\n",
    "        nxt_term = n1 + n2\n",
    "        n1=n2\n",
    "        n2=nxt_term\n",
    "        count += 1"
   ]
  },
  {
   "cell_type": "markdown",
   "metadata": {
    "id": "wauUz5ctE30E"
   },
   "source": [
    "### 14. Write a program that checks if a given number is prime or not."
   ]
  },
  {
   "cell_type": "code",
   "execution_count": 15,
   "metadata": {},
   "outputs": [
    {
     "name": "stdout",
     "output_type": "stream",
     "text": [
      "Enter a number to check if it's prime: 13\n",
      "13 is a prime number.\n"
     ]
    }
   ],
   "source": [
    "# Example usage\n",
    "number = int(input(\"Enter a number to check if it's prime: \"))\n",
    "\n",
    "flag = False\n",
    "\n",
    "# Check divisibility from 2 up to the number itself\n",
    "for i in range(2, number):\n",
    "    if number % i == 0:  # Check if number is divisible by i\n",
    "        flag = True\n",
    "        break\n",
    "\n",
    "# If flag is True, number is not prime\n",
    "if flag:\n",
    "    print(f\"{number} is not a prime number.\")\n",
    "else:\n",
    "    print(f\"{number} is a prime number.\")"
   ]
  },
  {
   "cell_type": "markdown",
   "metadata": {
    "id": "qB1v4bhOE79s"
   },
   "source": [
    "### 15. Write a program that prints the multiplication table of a given number."
   ]
  },
  {
   "cell_type": "code",
   "execution_count": 16,
   "metadata": {
    "colab": {
     "base_uri": "https://localhost:8080/"
    },
    "executionInfo": {
     "elapsed": 3,
     "status": "ok",
     "timestamp": 1716059515554,
     "user": {
      "displayName": "aniruddha biswas",
      "userId": "07170369810705939579"
     },
     "user_tz": -330
    },
    "id": "QR7kQ1onHgBh",
    "outputId": "19138dca-e5b8-4b4d-fef1-fef6054b0bde"
   },
   "outputs": [
    {
     "name": "stdout",
     "output_type": "stream",
     "text": [
      "7 x 1 = 7\n",
      "7 x 2 = 14\n",
      "7 x 3 = 21\n",
      "7 x 4 = 28\n",
      "7 x 5 = 35\n",
      "7 x 6 = 42\n",
      "7 x 7 = 49\n",
      "7 x 8 = 56\n",
      "7 x 9 = 63\n",
      "7 x 10 = 70\n"
     ]
    }
   ],
   "source": [
    "# Program to print the multiplication table of a given number\n",
    "number = 7\n",
    "\n",
    "for i in range(1, 11):\n",
    "    print(f\"{number} x {i} = {number * i}\")"
   ]
  },
  {
   "cell_type": "markdown",
   "metadata": {
    "id": "P-sFyxkcE-p1"
   },
   "source": [
    "### 16. Write a program that finds the sum of all even numbers between 1 and 'n'."
   ]
  },
  {
   "cell_type": "code",
   "execution_count": 17,
   "metadata": {
    "colab": {
     "base_uri": "https://localhost:8080/"
    },
    "executionInfo": {
     "elapsed": 715,
     "status": "ok",
     "timestamp": 1716059542011,
     "user": {
      "displayName": "aniruddha biswas",
      "userId": "07170369810705939579"
     },
     "user_tz": -330
    },
    "id": "Zq7Y0jZLHncR",
    "outputId": "f11b9491-7642-4a9f-9d5b-f95d38d0596f"
   },
   "outputs": [
    {
     "name": "stdout",
     "output_type": "stream",
     "text": [
      "The sum of all even numbers between 1 and 20 is 110\n"
     ]
    }
   ],
   "source": [
    "# Program to find the sum of all even numbers between 1 and n\n",
    "n = 20\n",
    "sum_even = sum(i for i in range(2, n + 1, 2))\n",
    "\n",
    "print(f\"The sum of all even numbers between 1 and {n} is {sum_even}\")"
   ]
  },
  {
   "cell_type": "markdown",
   "metadata": {
    "id": "Q-vXIHJLFHkq"
   },
   "source": [
    "### 17. Write a program that reverses a given number."
   ]
  },
  {
   "cell_type": "code",
   "execution_count": 18,
   "metadata": {
    "colab": {
     "base_uri": "https://localhost:8080/"
    },
    "executionInfo": {
     "elapsed": 448,
     "status": "ok",
     "timestamp": 1716059563798,
     "user": {
      "displayName": "aniruddha biswas",
      "userId": "07170369810705939579"
     },
     "user_tz": -330
    },
    "id": "VDRcGPJFHsmu",
    "outputId": "5cb8a52c-5082-4bfe-d068-ff763f37e0b9"
   },
   "outputs": [
    {
     "name": "stdout",
     "output_type": "stream",
     "text": [
      "The reverse of 654321 is 123456\n"
     ]
    }
   ],
   "source": [
    "# Program to reverse a given number\n",
    "number = 654321\n",
    "reversed_number = int(str(number)[::-1])\n",
    "\n",
    "print(f\"The reverse of {number} is {reversed_number}\")"
   ]
  },
  {
   "cell_type": "markdown",
   "metadata": {
    "id": "a0FKerNxFLWm"
   },
   "source": [
    "### 18. Write a program that checks if a given string, is a palindrome."
   ]
  },
  {
   "cell_type": "code",
   "execution_count": 19,
   "metadata": {
    "colab": {
     "base_uri": "https://localhost:8080/"
    },
    "executionInfo": {
     "elapsed": 2,
     "status": "ok",
     "timestamp": 1716059580579,
     "user": {
      "displayName": "aniruddha biswas",
      "userId": "07170369810705939579"
     },
     "user_tz": -330
    },
    "id": "ErvGHf7XHxbD",
    "outputId": "8cb5dc0f-1f12-49a5-bddf-6b1d8380910e"
   },
   "outputs": [
    {
     "name": "stdout",
     "output_type": "stream",
     "text": [
      "'radar' is a palindrome\n"
     ]
    }
   ],
   "source": [
    "# Program to check if a given string is a palindrome\n",
    "string = \"radar\"\n",
    "is_palindrome = string == string[::-1]\n",
    "\n",
    "if is_palindrome:\n",
    "    print(f\"'{string}' is a palindrome\")\n",
    "else:\n",
    "    print(f\"'{string}' is not a palindrome\")"
   ]
  },
  {
   "cell_type": "markdown",
   "metadata": {
    "id": "_JHm8BG6FOsI"
   },
   "source": [
    "### 19. Write a program that generates a random number and allows the user to guess it."
   ]
  },
  {
   "cell_type": "code",
   "execution_count": 20,
   "metadata": {
    "colab": {
     "base_uri": "https://localhost:8080/"
    },
    "executionInfo": {
     "elapsed": 44096,
     "status": "ok",
     "timestamp": 1716059644170,
     "user": {
      "displayName": "aniruddha biswas",
      "userId": "07170369810705939579"
     },
     "user_tz": -330
    },
    "id": "8mFtNyM5H1ty",
    "outputId": "42714564-0db1-45be-ad65-0907334fa4a2"
   },
   "outputs": [
    {
     "name": "stdout",
     "output_type": "stream",
     "text": [
      "Guess the number between 1 and 20\n",
      "Enter your guess: 12\n",
      "Too high! Try again.\n",
      "Enter your guess: 5\n",
      "Too low! Try again.\n",
      "Enter your guess: 8\n",
      "Too high! Try again.\n",
      "Enter your guess: 6\n",
      "Too low! Try again.\n",
      "Enter your guess: 7\n",
      "Congratulations! You guessed it right.\n"
     ]
    }
   ],
   "source": [
    "import random\n",
    "\n",
    "# Program to generate a random number and allow the user to guess it\n",
    "random_number = random.randint(1, 20)\n",
    "\n",
    "print(\"Guess the number between 1 and 20\")\n",
    "\n",
    "while True:\n",
    "    guess = int(input(\"Enter your guess: \"))\n",
    "\n",
    "    if guess < random_number:\n",
    "        print(\"Too low! Try again.\")\n",
    "    elif guess > random_number:\n",
    "        print(\"Too high! Try again.\")\n",
    "    else:\n",
    "        print(\"Congratulations! You guessed it right.\")\n",
    "        break"
   ]
  },
  {
   "cell_type": "markdown",
   "metadata": {
    "id": "_j201DjHFSlG"
   },
   "source": [
    "### 20. Write a program that finds the greatest common divisor (GCD) of two numbers."
   ]
  },
  {
   "cell_type": "code",
   "execution_count": 21,
   "metadata": {
    "colab": {
     "base_uri": "https://localhost:8080/"
    },
    "executionInfo": {
     "elapsed": 435,
     "status": "ok",
     "timestamp": 1716059667887,
     "user": {
      "displayName": "aniruddha biswas",
      "userId": "07170369810705939579"
     },
     "user_tz": -330
    },
    "id": "1trgbA4BID6H",
    "outputId": "a4aabb22-7e84-4c8e-a6ba-874949d6ce90"
   },
   "outputs": [
    {
     "name": "stdout",
     "output_type": "stream",
     "text": [
      "The GCD of 54 and 24 is 6\n"
     ]
    }
   ],
   "source": [
    "import math\n",
    "\n",
    "# Program to find the greatest common divisor (GCD) of two numbers\n",
    "num1 = 54\n",
    "num2 = 24\n",
    "\n",
    "gcd = math.gcd(num1, num2)\n",
    "\n",
    "print(f\"The GCD of {num1} and {num2} is {gcd}\")"
   ]
  }
 ],
 "metadata": {
  "colab": {
   "authorship_tag": "ABX9TyNiq5h4Qi7KmiHcL2U3MPZu",
   "provenance": []
  },
  "kernelspec": {
   "display_name": "Python 3 (ipykernel)",
   "language": "python",
   "name": "python3"
  },
  "language_info": {
   "codemirror_mode": {
    "name": "ipython",
    "version": 3
   },
   "file_extension": ".py",
   "mimetype": "text/x-python",
   "name": "python",
   "nbconvert_exporter": "python",
   "pygments_lexer": "ipython3",
   "version": "3.11.4"
  }
 },
 "nbformat": 4,
 "nbformat_minor": 1
}
