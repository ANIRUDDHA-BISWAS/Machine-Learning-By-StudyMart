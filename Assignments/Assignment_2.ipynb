{
 "cells": [
  {
   "cell_type": "markdown",
   "id": "c775e8ba",
   "metadata": {},
   "source": [
    "# Basic Problems:"
   ]
  },
  {
   "cell_type": "markdown",
   "id": "6e7f76fe",
   "metadata": {},
   "source": [
    "1. **Variable Swap:**\n",
    "   - Write a Python program to swap the values of two variables without using a temporary variable."
   ]
  },
  {
   "cell_type": "code",
   "execution_count": null,
   "id": "46eec2ef",
   "metadata": {},
   "outputs": [],
   "source": [
    "# Initialize variables\n",
    "a = int(input(\"Enter your first number: \"))\n",
    "b = int(input(\"Enter your second number: \"))\n",
    "\n",
    "print(f\"Before swapping: a = {a}, b = {b}\")\n",
    "\n",
    "# Swap values using a temporary variable\n",
    "temp = a\n",
    "a = b\n",
    "b = temp\n",
    "\n",
    "print(f\"After swapping: a = {a}, b = {b}\")"
   ]
  },
  {
   "cell_type": "markdown",
   "id": "bb3c701a",
   "metadata": {},
   "source": [
    "2. **Even or Odd:**\n",
    "   - Write a Python program that takes an integer as input and prints whether it is even or odd."
   ]
  },
  {
   "cell_type": "code",
   "execution_count": null,
   "id": "a091bc31",
   "metadata": {},
   "outputs": [],
   "source": [
    "num = int(input(\"Enter a whole number: \"))\n",
    "\n",
    "print(f\"You have Enter: {num}\")\n",
    "\n",
    "# Function to check if a number is even or odd\n",
    "if num%2==0:\n",
    "    print(\"It's a even Number\")\n",
    "else:\n",
    "    print(\"It's a odd Number\")"
   ]
  },
  {
   "cell_type": "markdown",
   "id": "b6b4ceef",
   "metadata": {},
   "source": [
    "3. **String Reverse:**\n",
    "   - Write a Python function to reverse a given string and return the reversed string."
   ]
  },
  {
   "cell_type": "code",
   "execution_count": null,
   "id": "0c1122a2",
   "metadata": {},
   "outputs": [],
   "source": [
    "# create a function\n",
    "def reverse_string(s):\n",
    "    return s[::-1]\n",
    "\n",
    "# ask for input\n",
    "input_string = input(\"Enter your text: \")\n",
    "\n",
    "# Use the function\n",
    "reversed_string = reverse_string(input_string)\n",
    "\n",
    "print(f\"Original string: {input_string}\")\n",
    "print(f\"Reversed string: {reversed_string}\")"
   ]
  },
  {
   "cell_type": "markdown",
   "id": "acd8d395",
   "metadata": {},
   "source": [
    "4. **Type Conversion:**\n",
    "   - Given a list of integers, write a Python program to convert each element of the list to a string."
   ]
  },
  {
   "cell_type": "code",
   "execution_count": null,
   "id": "433aeb8a",
   "metadata": {},
   "outputs": [],
   "source": []
  },
  {
   "cell_type": "markdown",
   "id": "3e24bb35",
   "metadata": {},
   "source": [
    "5. **Temperature Converter:**\n",
    "   - Write a Python program that converts a temperature in Celsius to Fahrenheit. Take the Celsius temperature as input from the user."
   ]
  },
  {
   "cell_type": "code",
   "execution_count": null,
   "id": "1c06e893",
   "metadata": {},
   "outputs": [],
   "source": [
    "# Take Celsius temperature input from the user\n",
    "celsius = float(input(\"Enter temperature in Celsius: \"))\n",
    "\n",
    "# Convert Celsius to Fahrenheit\n",
    "fahrenheit = (celsius * 9/5) + 32\n",
    "\n",
    "# Print the result\n",
    "print(f\"{celsius}°C is equal to {fahrenheit}°F\")"
   ]
  },
  {
   "cell_type": "markdown",
   "id": "e737bac6",
   "metadata": {},
   "source": [
    "6. **Data Type Checker:**\n",
    "   - Write a Python function that takes a variable as input and returns the data type of the variable as a string (e.g., \"int\", \"float\", \"str\", \"list\", etc.)."
   ]
  },
  {
   "cell_type": "code",
   "execution_count": null,
   "id": "a463d0c1",
   "metadata": {},
   "outputs": [],
   "source": []
  },
  {
   "cell_type": "markdown",
   "id": "71c0a94d",
   "metadata": {},
   "source": [
    "7. **String Palindrome:**\n",
    "   - Write a Python function to check if a given string is a palindrome or not."
   ]
  },
  {
   "cell_type": "code",
   "execution_count": null,
   "id": "60cae825",
   "metadata": {},
   "outputs": [],
   "source": [
    "def is_palindrome(s):\n",
    "    # Check if the string is equal to its reverse\n",
    "    return s == s[::-1]\n",
    "\n",
    "# Example usage\n",
    "input_string = input(\"Enter a string: \")\n",
    "\n",
    "# Check if the string is a palindrome\n",
    "if is_palindrome(input_string):\n",
    "    print(f\"'{input_string}' is a palindrome.\")\n",
    "else:\n",
    "    print(f\"'{input_string}' is not a palindrome.\")"
   ]
  },
  {
   "cell_type": "markdown",
   "id": "8eece1eb",
   "metadata": {},
   "source": [
    "8. **String Reversal with Slicing:**\n",
    "   - Write a Python function to reverse a given string using slicing."
   ]
  },
  {
   "cell_type": "code",
   "execution_count": null,
   "id": "78e9f3b9",
   "metadata": {},
   "outputs": [],
   "source": [
    "def reverse_string(s):\n",
    "    return s[::-1]\n",
    "\n",
    "# Example usage\n",
    "input_string = input(\"Enter a string: \")\n",
    "reversed_string = reverse_string(input_string)\n",
    "print(f\"Original string: {input_string}\")\n",
    "print(f\"Reversed string: {reversed_string}\")"
   ]
  },
  {
   "cell_type": "markdown",
   "id": "b6318dda",
   "metadata": {},
   "source": [
    "9. **String Concatenation:**\n",
    "   - Write a Python program that takes two strings as input and concatenates them into a single string without using the `+` operator."
   ]
  },
  {
   "cell_type": "code",
   "execution_count": null,
   "id": "ffdcadb6",
   "metadata": {},
   "outputs": [],
   "source": [
    "# Take two string inputs from the user\n",
    "string1 = input(\"Enter the first string: \")\n",
    "string2 = input(\"Enter the second string: \")\n",
    "    \n",
    "# Concatenate the strings \n",
    "concatenated_string = string1+string2\n",
    "    \n",
    "# Print the result\n",
    "print(f\"Concatenated string: {concatenated_string}\")"
   ]
  },
  {
   "cell_type": "markdown",
   "id": "da3859f1",
   "metadata": {},
   "source": [
    "10. **Typecasting Challenge:**\n",
    "    - Given three variables: `a = \"100\"`, `b = \"25\"`, and `c = \"10.5\"`, write a Python program to perform the following operations and print the results:\n",
    "      - Convert `a` to an integer and add it to `b`.\n",
    "      - Convert `c` to a float and subtract it from the result of the first operation.\n",
    "      - Convert the final result to a string and concatenate it with the string \" is the answer.\""
   ]
  },
  {
   "cell_type": "code",
   "execution_count": null,
   "id": "34a96172",
   "metadata": {},
   "outputs": [],
   "source": [
    "# Given variables\n",
    "a = \"100\"\n",
    "b = \"25\"\n",
    "c = \"10.5\"\n",
    "\n",
    "# Convert a to an integer and add it to b (after converting b to an integer)\n",
    "result1 = int(a) + int(b)\n",
    "\n",
    "# Convert c to a float and subtract it from the result of the first operation\n",
    "result2 = result1 - float(c)\n",
    "\n",
    "# Convert the final result to a string and concatenate it with the string \" is the answer.\"\n",
    "final_result = str(result2) + \" is the answer.\"\n",
    "\n",
    "# Print the final result\n",
    "print(final_result)"
   ]
  },
  {
   "cell_type": "markdown",
   "id": "dccb3f65",
   "metadata": {},
   "source": [
    "\n",
    "# Python Conditional Statements:\n",
    "\n",
    "\n",
    "\n",
    "\n",
    "\n",
    "\n",
    "\n",
    "\n",
    "\n",
    "\n",
    "\n",
    "\n",
    "\n",
    "\n",
    "\n",
    "\n",
    "\n",
    "\n",
    "\n",
    "\n",
    "\n",
    "\n",
    "\n",
    "\n",
    "\n"
   ]
  },
  {
   "cell_type": "markdown",
   "id": "1dd9c542",
   "metadata": {},
   "source": [
    "11. **Positive, Negative, or Zero:**\n",
    "    - Write a Python program that takes a number as input and prints whether it is positive, negative, or zero."
   ]
  },
  {
   "cell_type": "code",
   "execution_count": null,
   "id": "c2e99ea9",
   "metadata": {},
   "outputs": [],
   "source": [
    "# Take number input from the user\n",
    "num = float(input(\"Enter a number: \"))\n",
    "\n",
    "# Check if the number is positive, negative, or zero\n",
    "if num > 0:\n",
    "    result = \"positive\"\n",
    "elif num < 0:\n",
    "    result = \"negative\"\n",
    "else:\n",
    "    result = \"zero\"\n",
    "\n",
    "# Print the result\n",
    "print(f\"The number is {result}.\")"
   ]
  },
  {
   "cell_type": "markdown",
   "id": "94fdccc6",
   "metadata": {},
   "source": [
    "12. **Largest of Three Numbers:**\n",
    "    - Write a Python program that takes three numbers as input and prints the largest among them."
   ]
  },
  {
   "cell_type": "code",
   "execution_count": 3,
   "id": "df71f3cd",
   "metadata": {},
   "outputs": [
    {
     "name": "stdout",
     "output_type": "stream",
     "text": [
      "Enter the first number: 10\n",
      "Enter the second number: 12\n",
      "Enter the third number: 14\n",
      "The largest number is: 14.0\n"
     ]
    }
   ],
   "source": [
    "# Take three numbers as input from the user\n",
    "num1 = float(input(\"Enter the first number: \"))\n",
    "num2 = float(input(\"Enter the second number: \"))\n",
    "num3 = float(input(\"Enter the third number: \"))\n",
    "\n",
    "# Function to find the largest among three numbers\n",
    "if num1 >= num2 and num1 >= num3:\n",
    "    print(f\"The largest number is: {num1}\")\n",
    "elif num2 >= num1 and num2 >= num3:\n",
    "    print(f\"The largest number is: {num2}\")\n",
    "else:\n",
    "    print(f\"The largest number is: {num3}\")"
   ]
  },
  {
   "cell_type": "markdown",
   "id": "da376b1f",
   "metadata": {},
   "source": [
    "13. **Leap Year Checker:**\n",
    "    - Write a Python program that takes a year as input and determines if it is a leap year or not."
   ]
  },
  {
   "cell_type": "code",
   "execution_count": 9,
   "id": "27fcce53",
   "metadata": {},
   "outputs": [
    {
     "name": "stdout",
     "output_type": "stream",
     "text": [
      "Enter a year: 1997\n",
      "1997 not a Leap Year\n"
     ]
    }
   ],
   "source": [
    "# Take year input from the user\n",
    "year = int(input(\"Enter a year: \"))\n",
    "\n",
    "# Function to check if a year is a leap year\n",
    "if (year % 4 == 0 and year % 100 != 0) or (year % 400 == 0):\n",
    "    print(f\" {year} a Leap Year\")\n",
    "else:\n",
    "    print(f\"{year} not a Leap Year\")"
   ]
  },
  {
   "cell_type": "markdown",
   "id": "9d116305",
   "metadata": {},
   "source": [
    "14. **Grades Classification:**\n",
    "    - Write a Python program that takes a student's percentage as input and prints their corresponding grade according to the following criteria:\n",
    "      - 90% or above: A\n",
    "      - 80-89%: B\n",
    "      - 70-79%: C\n",
    "      - 60-69%: D\n",
    "      - Below 60%: Fail"
   ]
  },
  {
   "cell_type": "code",
   "execution_count": null,
   "id": "c0384cdc",
   "metadata": {},
   "outputs": [],
   "source": []
  },
  {
   "cell_type": "markdown",
   "id": "04673a67",
   "metadata": {},
   "source": [
    "15. **Vowel or Consonant:**\n",
    "    - Write a Python program that takes a single character as input and determines whether it is a vowel or a consonant."
   ]
  },
  {
   "cell_type": "code",
   "execution_count": null,
   "id": "41b0f0fa",
   "metadata": {},
   "outputs": [],
   "source": []
  },
  {
   "cell_type": "markdown",
   "id": "33fd608d",
   "metadata": {},
   "source": [
    "16. **Time Classification:**\n",
    "    - Write a Python program that takes the time in hours (24-hour format) as input and prints \"Good Morning\", \"Good Afternoon\", \"Good Evening\", or \"Good Night\" based on the time."
   ]
  },
  {
   "cell_type": "code",
   "execution_count": null,
   "id": "05dc90bd",
   "metadata": {},
   "outputs": [],
   "source": []
  },
  {
   "cell_type": "markdown",
   "id": "2a0a0bbb",
   "metadata": {},
   "source": [
    "17. **Triangle Type Checker:**\n",
    "    - Write a Python program that takes three sides of a triangle as input and determines whether it forms an equilateral, isosceles, or scalene triangle."
   ]
  },
  {
   "cell_type": "code",
   "execution_count": null,
   "id": "8194ae45",
   "metadata": {},
   "outputs": [],
   "source": []
  },
  {
   "cell_type": "markdown",
   "id": "7dd67db0",
   "metadata": {},
   "source": [
    "18. **Quadratic Equation Solver:**\n",
    "    - Write a Python program that takes the coefficients (a, b, c) of a quadratic equation as input and calculates and prints the real roots (if they exist) or a message indicating the complex roots."
   ]
  },
  {
   "cell_type": "code",
   "execution_count": null,
   "id": "e600bf60",
   "metadata": {},
   "outputs": [],
   "source": []
  },
  {
   "cell_type": "markdown",
   "id": "1e8014ab",
   "metadata": {},
   "source": [
    "# Number Ranges:"
   ]
  },
  {
   "cell_type": "markdown",
   "id": "feb52043",
   "metadata": {},
   "source": [
    "19. **Number Ranges:**\n",
    "    - Write a Python program that takes an integer as input and prints whether the number falls within the ranges: 0-50, 51-100, 101-150, or above 150."
   ]
  },
  {
   "cell_type": "code",
   "execution_count": null,
   "id": "90a164ed",
   "metadata": {},
   "outputs": [],
   "source": []
  },
  {
   "cell_type": "markdown",
   "id": "1b163261",
   "metadata": {},
   "source": [
    "# For & While Loops:"
   ]
  },
  {
   "cell_type": "markdown",
   "id": "48781cd7",
   "metadata": {},
   "source": [
    "20. **Sum of N Numbers:**\n",
    "    - Write a Python program using a for loop to calculate the sum of the first N natural numbers, where N is taken as input from the user."
   ]
  },
  {
   "cell_type": "code",
   "execution_count": null,
   "id": "6a0a9378",
   "metadata": {},
   "outputs": [],
   "source": []
  },
  {
   "cell_type": "markdown",
   "id": "48ee4702",
   "metadata": {},
   "source": [
    "21. **Factorial Calculator:**\n",
    "    - Write a Python program using a while loop to calculate the factorial of a given number N."
   ]
  },
  {
   "cell_type": "code",
   "execution_count": null,
   "id": "2d389813",
   "metadata": {},
   "outputs": [],
   "source": []
  },
  {
   "cell_type": "markdown",
   "id": "38e741ef",
   "metadata": {},
   "source": [
    "22. **Table of a Number:**\n",
    "    - Write a Python program using a for loop to print the multiplication table of a given number N."
   ]
  },
  {
   "cell_type": "code",
   "execution_count": null,
   "id": "4e15eaad",
   "metadata": {},
   "outputs": [],
   "source": []
  },
  {
   "cell_type": "markdown",
   "id": "bc4e187b",
   "metadata": {},
   "source": [
    "23. **Count Digits in a Number:**\n",
    "    - Write a Python program using a while loop to count the number of digits in a given integer N."
   ]
  },
  {
   "cell_type": "code",
   "execution_count": null,
   "id": "6d1d28a4",
   "metadata": {},
   "outputs": [],
   "source": []
  },
  {
   "cell_type": "markdown",
   "id": "2823cad6",
   "metadata": {},
   "source": [
    "24. **Fibonacci Sequence:**\n",
    "    - Write a Python program using a for loop to generate the Fibonacci sequence up to a given limit N."
   ]
  },
  {
   "cell_type": "code",
   "execution_count": null,
   "id": "eae40da2",
   "metadata": {},
   "outputs": [],
   "source": []
  },
  {
   "cell_type": "markdown",
   "id": "450328e9",
   "metadata": {},
   "source": [
    "25. **Sum of Even Numbers:**\n",
    "    - Write a Python program using a while loop to calculate the sum of all even numbers between 1 and N, where N is taken as input from the user."
   ]
  },
  {
   "cell_type": "code",
   "execution_count": null,
   "id": "34ca4aa7",
   "metadata": {},
   "outputs": [],
   "source": []
  },
  {
   "cell_type": "markdown",
   "id": "4b502cc0",
   "metadata": {},
   "source": [
    "26. **Print Patterns:**\n",
    "    - Write a Python program using nested for loops to print various patterns, such as a right-angled triangle, an inverted right-angled triangle, and so on."
   ]
  },
  {
   "cell_type": "code",
   "execution_count": null,
   "id": "b24d6222",
   "metadata": {},
   "outputs": [],
   "source": []
  },
  {
   "cell_type": "markdown",
   "id": "fedc396c",
   "metadata": {},
   "source": [
    "27. **Prime Number Checker:**\n",
    "    - Write a Python program using a while loop to check if a given number N is prime or not."
   ]
  },
  {
   "cell_type": "code",
   "execution_count": null,
   "id": "f6d3b5ee",
   "metadata": {},
   "outputs": [],
   "source": []
  },
  {
   "cell_type": "markdown",
   "id": "f808c459",
   "metadata": {},
   "source": [
    "28. **List Manipulation:**\n",
    "    - Given a list of integers, write a Python program using a for loop to find the sum, average, maximum, and minimum values in the list."
   ]
  },
  {
   "cell_type": "code",
   "execution_count": null,
   "id": "ea4c923c",
   "metadata": {},
   "outputs": [],
   "source": []
  },
  {
   "cell_type": "markdown",
   "id": "3735b61e",
   "metadata": {},
   "source": [
    "29. **Reverse String:**\n",
    "    - Write a Python program using a while loop to reverse a given string."
   ]
  },
  {
   "cell_type": "code",
   "execution_count": null,
   "id": "394a2afb",
   "metadata": {},
   "outputs": [],
   "source": []
  },
  {
   "cell_type": "markdown",
   "id": "04f17494",
   "metadata": {},
   "source": [
    "# Nested Loops:"
   ]
  },
  {
   "cell_type": "markdown",
   "id": "7e0a227c",
   "metadata": {},
   "source": [
    "30. **Multiplication Table:**\n",
    "    - Write a Python program using nested loops to print the multiplication table from 1 to 10."
   ]
  },
  {
   "cell_type": "code",
   "execution_count": 13,
   "id": "a40587f0",
   "metadata": {},
   "outputs": [
    {
     "ename": "IndentationError",
     "evalue": "expected an indented block after 'for' statement on line 3 (2741879327.py, line 4)",
     "output_type": "error",
     "traceback": [
      "\u001b[1;36m  Cell \u001b[1;32mIn[13], line 4\u001b[1;36m\u001b[0m\n\u001b[1;33m    print(i)\u001b[0m\n\u001b[1;37m            ^\u001b[0m\n\u001b[1;31mIndentationError\u001b[0m\u001b[1;31m:\u001b[0m expected an indented block after 'for' statement on line 3\n"
     ]
    }
   ],
   "source": [
    "# Main program\n",
    "for i in range(1, 11):  # Outer loop for rows (1 to 10)\n",
    "    for j in range(1, 11):  # Inner loop for columns (1 to 10)\n",
    "        print(i)\n",
    "       "
   ]
  },
  {
   "cell_type": "markdown",
   "id": "8e5e0435",
   "metadata": {},
   "source": [
    "31. **Print Patterns:**\n",
    "    - Write a Python program using nested loops to print the following pattern:\n",
    "      ```\n",
    "      *\n",
    "      **\n",
    "      ***\n",
    "      ****\n",
    "      *****\n",
    "      ```"
   ]
  },
  {
   "cell_type": "code",
   "execution_count": null,
   "id": "b3f55ff4",
   "metadata": {},
   "outputs": [],
   "source": []
  },
  {
   "cell_type": "markdown",
   "id": "a0cb75a4",
   "metadata": {},
   "source": [
    "32. **Matrix Multiplication:**\n",
    "    - Write a Python program using nested loops to multiply two matrices."
   ]
  },
  {
   "cell_type": "code",
   "execution_count": null,
   "id": "bf8eca8d",
   "metadata": {},
   "outputs": [],
   "source": []
  },
  {
   "cell_type": "markdown",
   "id": "6022b291",
   "metadata": {},
   "source": [
    "33. **Chessboard Pattern:**\n",
    "    - Write a Python program using nested loops to print a chessboard pattern (alternating “X” and “O” characters) of size 8×8."
   ]
  },
  {
   "cell_type": "code",
   "execution_count": null,
   "id": "a36c08df",
   "metadata": {},
   "outputs": [],
   "source": []
  },
  {
   "cell_type": "markdown",
   "id": "bf80e134",
   "metadata": {},
   "source": [
    "34. **Number Pyramid:**\n",
    "    - Write a Python program using nested loops to print a number pyramid like the following:\n",
    "      ```\n",
    "      1\n",
    "      22\n",
    "      333\n",
    "      4444\n",
    "      55555\n",
    "      ```"
   ]
  },
  {
   "cell_type": "code",
   "execution_count": null,
   "id": "3429aa47",
   "metadata": {},
   "outputs": [],
   "source": []
  },
  {
   "cell_type": "markdown",
   "id": "6783a325",
   "metadata": {},
   "source": [
    "# List Problems:"
   ]
  },
  {
   "cell_type": "markdown",
   "id": "1d682db2",
   "metadata": {},
   "source": [
    "34. **List Sum:**\n",
    "    - Write a Python program to find the sum of all elements in a given list of integers."
   ]
  },
  {
   "cell_type": "code",
   "execution_count": null,
   "id": "e1a3c32d",
   "metadata": {},
   "outputs": [],
   "source": []
  },
  {
   "cell_type": "markdown",
   "id": "21414ebc",
   "metadata": {},
   "source": [
    "35. **List Average:**\n",
    "    - Write a Python program to calculate the average of all elements in a given list of integers."
   ]
  },
  {
   "cell_type": "code",
   "execution_count": null,
   "id": "88f71012",
   "metadata": {},
   "outputs": [],
   "source": []
  },
  {
   "cell_type": "markdown",
   "id": "0fd9fafb",
   "metadata": {},
   "source": [
    "36. **List Max and Min:**\n",
    "    - Write a Python program to find the maximum and minimum values in a given list of integers."
   ]
  },
  {
   "cell_type": "code",
   "execution_count": null,
   "id": "4fdebf09",
   "metadata": {},
   "outputs": [],
   "source": []
  },
  {
   "cell_type": "markdown",
   "id": "70d779cf",
   "metadata": {},
   "source": [
    "37. **List Sorting:**\n",
    "    - Write a Python program to sort a list of integers in ascending order."
   ]
  },
  {
   "cell_type": "code",
   "execution_count": null,
   "id": "d77e13b0",
   "metadata": {},
   "outputs": [],
   "source": []
  },
  {
   "cell_type": "markdown",
   "id": "302820e5",
   "metadata": {},
   "source": [
    "38. **List Filtering:**\n",
    "    - Given a list of integers, write a Python program to create a new list that contains only the even numbers from the original list."
   ]
  },
  {
   "cell_type": "code",
   "execution_count": null,
   "id": "3b00a338",
   "metadata": {},
   "outputs": [],
   "source": []
  },
  {
   "cell_type": "markdown",
   "id": "d3a7b75f",
   "metadata": {},
   "source": [
    "39. **List Reversal:**\n",
    "    - Write a Python program to reverse a given list without using any built-in functions."
   ]
  },
  {
   "cell_type": "code",
   "execution_count": null,
   "id": "7d9b632e",
   "metadata": {},
   "outputs": [],
   "source": []
  },
  {
   "cell_type": "markdown",
   "id": "58d1b9cc",
   "metadata": {},
   "source": [
    "40. **List Manipulation:**\n",
    "    - Given two lists of integers, write a Python program to create a new list that contains elements common to both lists."
   ]
  },
  {
   "cell_type": "code",
   "execution_count": null,
   "id": "94303986",
   "metadata": {},
   "outputs": [],
   "source": []
  },
  {
   "cell_type": "markdown",
   "id": "864b8535",
   "metadata": {},
   "source": [
    "41. **List Element Count:**\n",
    "    - Write a Python program to count the occurrences of a specific element in a given list."
   ]
  },
  {
   "cell_type": "code",
   "execution_count": null,
   "id": "f8a920d9",
   "metadata": {},
   "outputs": [],
   "source": []
  },
  {
   "cell_type": "markdown",
   "id": "0c97bd67",
   "metadata": {},
   "source": [
    "42. **List Duplicates Removal:**\n",
    "    - Write a Python program to remove duplicates from a given list while preserving the order of the elements."
   ]
  },
  {
   "cell_type": "code",
   "execution_count": null,
   "id": "497671cf",
   "metadata": {},
   "outputs": [],
   "source": []
  },
  {
   "cell_type": "markdown",
   "id": "1b22fe31",
   "metadata": {},
   "source": [
    "43. **List Comprehension:**\n",
    "    - Given a list of integers, write a Python program to create a new list that contains the squares of the elements using list comprehension."
   ]
  },
  {
   "cell_type": "code",
   "execution_count": null,
   "id": "71f386d5",
   "metadata": {},
   "outputs": [],
   "source": []
  },
  {
   "cell_type": "markdown",
   "id": "db4a5238",
   "metadata": {},
   "source": [
    "# Nested List Problems:"
   ]
  },
  {
   "cell_type": "markdown",
   "id": "ff06e5b0",
   "metadata": {},
   "source": [
    "44. **Matrix Addition:**\n",
    "    - Write a Python program to add two matrices represented as nested lists."
   ]
  },
  {
   "cell_type": "code",
   "execution_count": null,
   "id": "dba73aea",
   "metadata": {},
   "outputs": [],
   "source": []
  },
  {
   "cell_type": "markdown",
   "id": "29e7d225",
   "metadata": {},
   "source": [
    "45. **Flatten Nested List:**\n",
    "    - Write a Python program to flatten a given nested list and convert it into a single-dimensional list."
   ]
  },
  {
   "cell_type": "code",
   "execution_count": null,
   "id": "820d98df",
   "metadata": {},
   "outputs": [],
   "source": []
  },
  {
   "cell_type": "markdown",
   "id": "8c1d4c7d",
   "metadata": {},
   "source": [
    "46. **List Element Frequency:**\n",
    "    - Given a nested list containing lists of integers, write a Python program to count the frequency of each element in the entire nested list."
   ]
  },
  {
   "cell_type": "code",
   "execution_count": null,
   "id": "9decdba0",
   "metadata": {},
   "outputs": [],
   "source": []
  },
  {
   "cell_type": "markdown",
   "id": "677a2b7d",
   "metadata": {},
   "source": [
    "47. **Transpose Matrix:**\n",
    "    - Write a Python program to transpose a given matrix represented as a nested list."
   ]
  },
  {
   "cell_type": "code",
   "execution_count": null,
   "id": "a7f2b262",
   "metadata": {},
   "outputs": [],
   "source": []
  },
  {
   "cell_type": "markdown",
   "id": "4e5e103c",
   "metadata": {},
   "source": [
    "48. **List of Lists Concatenation:**\n",
    "    - Given a list of nested lists, write a Python program to concatenate all the sublists into a single flat list."
   ]
  },
  {
   "cell_type": "code",
   "execution_count": null,
   "id": "166aab8c",
   "metadata": {},
   "outputs": [],
   "source": []
  },
  {
   "cell_type": "markdown",
   "id": "567fa6eb",
   "metadata": {},
   "source": [
    "# Tuple Problems:"
   ]
  },
  {
   "cell_type": "markdown",
   "id": "1cb507c5",
   "metadata": {},
   "source": [
    "49. **Tuple Concatenation**: Write a Python program to concatenate two tuples and create a new tuple."
   ]
  },
  {
   "cell_type": "code",
   "execution_count": null,
   "id": "d526861e",
   "metadata": {},
   "outputs": [],
   "source": []
  },
  {
   "cell_type": "markdown",
   "id": "07ef5d63",
   "metadata": {},
   "source": [
    "50. **Tuple Unpacking**: Given a tuple with three elements (x, y, z), write a Python program to unpack the tuple and assign the values to three variables."
   ]
  },
  {
   "cell_type": "code",
   "execution_count": null,
   "id": "c15af5ee",
   "metadata": {},
   "outputs": [],
   "source": []
  },
  {
   "cell_type": "markdown",
   "id": "e69420e2",
   "metadata": {},
   "source": [
    "51. **Tuple Sorting**: Write a Python program to sort a tuple of integers in ascending order."
   ]
  },
  {
   "cell_type": "code",
   "execution_count": null,
   "id": "4f219e32",
   "metadata": {},
   "outputs": [],
   "source": []
  },
  {
   "cell_type": "markdown",
   "id": "487940d3",
   "metadata": {},
   "source": [
    "52. **Tuple Frequency Count**: Given a tuple containing various elements, write a Python program to count the frequency of a specific element in the tuple."
   ]
  },
  {
   "cell_type": "code",
   "execution_count": null,
   "id": "726ed4fe",
   "metadata": {},
   "outputs": [],
   "source": []
  },
  {
   "cell_type": "markdown",
   "id": "55c0ccab",
   "metadata": {},
   "source": [
    "53. **Tuple to List**: Write a Python program to convert a tuple into a list."
   ]
  },
  {
   "cell_type": "code",
   "execution_count": null,
   "id": "fd129da3",
   "metadata": {},
   "outputs": [],
   "source": []
  },
  {
   "cell_type": "markdown",
   "id": "2eb23906",
   "metadata": {},
   "source": [
    "54. **Tuple Reversal**: Write a Python program to reverse a tuple without using any built-in functions."
   ]
  },
  {
   "cell_type": "code",
   "execution_count": null,
   "id": "f33edd85",
   "metadata": {},
   "outputs": [],
   "source": []
  },
  {
   "cell_type": "markdown",
   "id": "83de8a70",
   "metadata": {},
   "source": [
    "55. **Tuple Slicing**: Given a tuple, write a Python program to extract a slice of elements from it."
   ]
  },
  {
   "cell_type": "code",
   "execution_count": null,
   "id": "8371f5c1",
   "metadata": {},
   "outputs": [],
   "source": []
  },
  {
   "cell_type": "markdown",
   "id": "10e59e07",
   "metadata": {},
   "source": [
    "56. **Tuple Operations**: Given two tuples of integers, write a Python program to perform element-wise addition, subtraction, and multiplication and create new tuples for each operation."
   ]
  },
  {
   "cell_type": "code",
   "execution_count": null,
   "id": "61f3b949",
   "metadata": {},
   "outputs": [],
   "source": []
  },
  {
   "cell_type": "markdown",
   "id": "1b58c676",
   "metadata": {},
   "source": [
    "57. **Tuple Membership Test**: Write a Python program that takes an element as input and checks if it exists in a given tuple."
   ]
  },
  {
   "cell_type": "code",
   "execution_count": null,
   "id": "15746af9",
   "metadata": {},
   "outputs": [],
   "source": []
  },
  {
   "cell_type": "markdown",
   "id": "d229bfc4",
   "metadata": {},
   "source": [
    "58. **Tuple Packing**: Write a Python program to pack three variables into a single tuple and print the tuple."
   ]
  },
  {
   "cell_type": "code",
   "execution_count": null,
   "id": "012ccbac",
   "metadata": {},
   "outputs": [],
   "source": []
  },
  {
   "cell_type": "markdown",
   "id": "a491df40",
   "metadata": {},
   "source": [
    "\n",
    "# Nested List Problems:"
   ]
  },
  {
   "cell_type": "markdown",
   "id": "3b1580dc",
   "metadata": {},
   "source": [
    "59. **Nested List Element Access**: Given a nested list, write a Python program to access and print specific elements from it.\n",
    "\n",
    "\n",
    "\n",
    "\n",
    "\n",
    "\n",
    "\n"
   ]
  },
  {
   "cell_type": "code",
   "execution_count": null,
   "id": "5d4f5203",
   "metadata": {},
   "outputs": [],
   "source": []
  },
  {
   "cell_type": "markdown",
   "id": "0dd9a0ff",
   "metadata": {},
   "source": [
    "60. **Nested List Flattening**: Write a Python program to flatten a nested list and convert it into a single-dimensional list."
   ]
  },
  {
   "cell_type": "code",
   "execution_count": null,
   "id": "48aa3740",
   "metadata": {},
   "outputs": [],
   "source": []
  },
  {
   "cell_type": "markdown",
   "id": "053e3ff2",
   "metadata": {},
   "source": [
    "61. **Nested List Sorting**: Given a nested list containing lists of integers, write a Python program to sort the sublists based on their lengths."
   ]
  },
  {
   "cell_type": "code",
   "execution_count": null,
   "id": "e1e301ea",
   "metadata": {},
   "outputs": [],
   "source": []
  },
  {
   "cell_type": "markdown",
   "id": "046840b8",
   "metadata": {},
   "source": [
    "62. **List of Tuples Conversion**: Given a nested list containing tuples of (x, y) coordinates, write a Python program to convert it into a list of x-coordinates and a list of y-coordinates."
   ]
  },
  {
   "cell_type": "code",
   "execution_count": null,
   "id": "4d430dbd",
   "metadata": {},
   "outputs": [],
   "source": []
  },
  {
   "cell_type": "markdown",
   "id": "b6f935cf",
   "metadata": {},
   "source": [
    "63. **Matrix Transpose**: Write a Python program to transpose a given matrix represented as a nested list."
   ]
  },
  {
   "cell_type": "code",
   "execution_count": null,
   "id": "637881ff",
   "metadata": {},
   "outputs": [],
   "source": []
  },
  {
   "cell_type": "markdown",
   "id": "adfe9125",
   "metadata": {},
   "source": [
    "64. **Nested List Concatenation**: Given a list of nested lists, write a Python program to concatenate all the sublists into a single flat list."
   ]
  },
  {
   "cell_type": "code",
   "execution_count": null,
   "id": "9327137e",
   "metadata": {},
   "outputs": [],
   "source": []
  },
  {
   "cell_type": "markdown",
   "id": "c5ca36b8",
   "metadata": {},
   "source": [
    "65. **Count Even Numbers**: Write a Python program to count the number of even numbers in a nested list."
   ]
  },
  {
   "cell_type": "code",
   "execution_count": null,
   "id": "ed48d374",
   "metadata": {},
   "outputs": [],
   "source": []
  },
  {
   "cell_type": "markdown",
   "id": "1f35f778",
   "metadata": {},
   "source": [
    "66. **Maximum Element in Nested List**: Write a Python program to find the maximum element in a nested list of integers."
   ]
  },
  {
   "cell_type": "code",
   "execution_count": null,
   "id": "7f7d7174",
   "metadata": {},
   "outputs": [],
   "source": []
  },
  {
   "cell_type": "markdown",
   "id": "6fc1098f",
   "metadata": {},
   "source": [
    "67. **Diagonal Sum of Matrix**: Given a square matrix represented as a nested list, write a Python program to calculate the sum of the elements in the main diagonal."
   ]
  },
  {
   "cell_type": "code",
   "execution_count": null,
   "id": "2bc0bc86",
   "metadata": {},
   "outputs": [],
   "source": []
  },
  {
   "cell_type": "markdown",
   "id": "6df8aa37",
   "metadata": {},
   "source": [
    "68. **Nested List Element Search**: Write a Python program to search for a specific element in a nested list and return its position (row and column indices)."
   ]
  },
  {
   "cell_type": "code",
   "execution_count": null,
   "id": "cfb57f4f",
   "metadata": {},
   "outputs": [],
   "source": []
  },
  {
   "cell_type": "markdown",
   "id": "100a57a7",
   "metadata": {},
   "source": [
    "# Set Problems:"
   ]
  },
  {
   "cell_type": "markdown",
   "id": "8f96831b",
   "metadata": {},
   "source": [
    "69. **Duplicate Removal**: Write a Python program that takes a list of elements as input and creates a new set containing only the unique elements from the list."
   ]
  },
  {
   "cell_type": "code",
   "execution_count": null,
   "id": "05e76a10",
   "metadata": {},
   "outputs": [],
   "source": []
  },
  {
   "cell_type": "markdown",
   "id": "bc4bdc82",
   "metadata": {},
   "source": [
    "70. **Set Intersection**: Given two sets A and B, write a Python program to find their intersection and print the common elements."
   ]
  },
  {
   "cell_type": "code",
   "execution_count": null,
   "id": "50020aa4",
   "metadata": {},
   "outputs": [],
   "source": []
  },
  {
   "cell_type": "markdown",
   "id": "4d62fa79",
   "metadata": {},
   "source": [
    "71. **Set Union**: Given two sets A and B, write a Python program to find their union and print all the distinct elements from both sets."
   ]
  },
  {
   "cell_type": "code",
   "execution_count": null,
   "id": "0a574011",
   "metadata": {},
   "outputs": [],
   "source": []
  },
  {
   "cell_type": "markdown",
   "id": "fd1cc940",
   "metadata": {},
   "source": [
    "72. **Set Difference**: Given two sets A and B, write a Python program to find the difference between set A and set B (i.e., elements present in A but not in B) and print the result."
   ]
  },
  {
   "cell_type": "code",
   "execution_count": null,
   "id": "eaaaa5a2",
   "metadata": {},
   "outputs": [],
   "source": []
  },
  {
   "cell_type": "markdown",
   "id": "1876e2f5",
   "metadata": {},
   "source": [
    "73. **Set Symmetric Difference**: Given two sets A and B, write a Python program to find the symmetric difference between the two sets (i.e., elements that are present in either set A or set B, but not in both) and print the result."
   ]
  },
  {
   "cell_type": "code",
   "execution_count": null,
   "id": "f528ed61",
   "metadata": {},
   "outputs": [],
   "source": []
  },
  {
   "cell_type": "markdown",
   "id": "603e1fe6",
   "metadata": {},
   "source": [
    "74. **Set Operations**: Given three sets A, B, and C, write a Python program to find and print the intersection of A and B, the union of B and C, and the difference between C and A."
   ]
  },
  {
   "cell_type": "code",
   "execution_count": null,
   "id": "f3931b7e",
   "metadata": {},
   "outputs": [],
   "source": []
  },
  {
   "cell_type": "markdown",
   "id": "648600f2",
   "metadata": {},
   "source": [
    "75. **Set Subset Check**: Given two sets A and B, write a Python program to check if set A is a subset of set B and print the result."
   ]
  },
  {
   "cell_type": "code",
   "execution_count": null,
   "id": "ae2603ed",
   "metadata": {},
   "outputs": [],
   "source": []
  },
  {
   "cell_type": "markdown",
   "id": "19cc257b",
   "metadata": {},
   "source": [
    "76. **Set Superset Check**: Given two sets A and B, write a Python program to check if set A is a superset of set B and print the result."
   ]
  },
  {
   "cell_type": "code",
   "execution_count": null,
   "id": "2a3e49d2",
   "metadata": {},
   "outputs": [],
   "source": []
  },
  {
   "cell_type": "markdown",
   "id": "f69622f4",
   "metadata": {},
   "source": [
    "77. **Set Length Check**: Write a Python program that takes a set as input and prints the number of elements in the set."
   ]
  },
  {
   "cell_type": "code",
   "execution_count": null,
   "id": "cb08be51",
   "metadata": {},
   "outputs": [],
   "source": []
  },
  {
   "cell_type": "markdown",
   "id": "e437c8f4",
   "metadata": {},
   "source": [
    "78. **Set Membership Test**: Write a Python program that takes an element as input and checks if it exists in a given set. Print \"Found\" if the element is present and \"Not Found\" otherwise."
   ]
  },
  {
   "cell_type": "code",
   "execution_count": null,
   "id": "96e04b8f",
   "metadata": {},
   "outputs": [],
   "source": []
  },
  {
   "cell_type": "markdown",
   "id": "d53cd875",
   "metadata": {},
   "source": [
    "# Dictionary Problems:"
   ]
  },
  {
   "cell_type": "markdown",
   "id": "58ef51ce",
   "metadata": {},
   "source": [
    "79. **Dictionary Manipulation**: Given a dictionary with student names as keys and their corresponding scores as values, write a Python program to add a new student to the dictionary and update the score of an existing student."
   ]
  },
  {
   "cell_type": "code",
   "execution_count": null,
   "id": "fcb6fc8c",
   "metadata": {},
   "outputs": [],
   "source": []
  },
  {
   "cell_type": "markdown",
   "id": "4a8b9dfc",
   "metadata": {},
   "source": [
    "80. **Dictionary Keys and Values**: Write a Python program that takes a dictionary as input and prints all the keys and values in separate lines."
   ]
  },
  {
   "cell_type": "code",
   "execution_count": null,
   "id": "ec842f01",
   "metadata": {},
   "outputs": [],
   "source": []
  },
  {
   "cell_type": "markdown",
   "id": "6182fe30",
   "metadata": {},
   "source": [
    "81. **Dictionary Length**: Write a Python program to calculate and print the number of key-value pairs in a given dictionary."
   ]
  },
  {
   "cell_type": "code",
   "execution_count": null,
   "id": "470a59c0",
   "metadata": {},
   "outputs": [],
   "source": []
  },
  {
   "cell_type": "markdown",
   "id": "eb1f5602",
   "metadata": {},
   "source": [
    "82. **Dictionary Value Search**: Given a dictionary of items and their prices, write a Python program to search for an item based on its price and print the item's name."
   ]
  },
  {
   "cell_type": "code",
   "execution_count": null,
   "id": "e9d1b67a",
   "metadata": {},
   "outputs": [],
   "source": []
  },
  {
   "cell_type": "markdown",
   "id": "99e07890",
   "metadata": {},
   "source": [
    "83. **Dictionary Merging**: Given two dictionaries, write a Python program to merge them into a single dictionary and print the result."
   ]
  },
  {
   "cell_type": "code",
   "execution_count": null,
   "id": "58d62c68",
   "metadata": {},
   "outputs": [],
   "source": []
  },
  {
   "cell_type": "markdown",
   "id": "a27e509e",
   "metadata": {},
   "source": [
    "84. **Dictionary Key Removal**: Given a dictionary of items and their quantities, write a Python program to remove a specific item from the dictionary based on user input."
   ]
  },
  {
   "cell_type": "code",
   "execution_count": null,
   "id": "528b16de",
   "metadata": {},
   "outputs": [],
   "source": []
  },
  {
   "cell_type": "markdown",
   "id": "626b9fb8",
   "metadata": {},
   "source": [
    "85. **Dictionary Sorting**: Given a dictionary with names as keys and corresponding ages as values, write a Python program to sort the dictionary based on age in ascending order."
   ]
  },
  {
   "cell_type": "code",
   "execution_count": null,
   "id": "3098386b",
   "metadata": {},
   "outputs": [],
   "source": []
  },
  {
   "cell_type": "markdown",
   "id": "66e1fa84",
   "metadata": {},
   "source": [
    "# Dictionary Problems:"
   ]
  },
  {
   "cell_type": "markdown",
   "id": "cb3d17d7",
   "metadata": {},
   "source": [
    "1. **Dictionary Frequency Count**: Write a Python program that takes a string as input and creates a dictionary containing each character as a key and its frequency as the value."
   ]
  },
  {
   "cell_type": "code",
   "execution_count": null,
   "id": "e976fb60",
   "metadata": {},
   "outputs": [],
   "source": []
  },
  {
   "cell_type": "markdown",
   "id": "8cdd6814",
   "metadata": {},
   "source": [
    "2. **Dictionary Comprehension**: Given a list of integers, write a Python program to create a dictionary where the keys are the elements from the list, and the values are their squares."
   ]
  },
  {
   "cell_type": "code",
   "execution_count": null,
   "id": "f76400bc",
   "metadata": {},
   "outputs": [],
   "source": []
  },
  {
   "cell_type": "markdown",
   "id": "cde737e8",
   "metadata": {},
   "source": [
    "3. **Dictionary Key Check**: Write a Python program that takes a key as input and checks if it exists in a given dictionary. Print \"Key Found\" if the key is present and \"Key Not Found\" otherwise."
   ]
  },
  {
   "cell_type": "code",
   "execution_count": null,
   "id": "eebcbaab",
   "metadata": {},
   "outputs": [],
   "source": []
  },
  {
   "cell_type": "markdown",
   "id": "454d4bc1",
   "metadata": {},
   "source": [
    "# Nested Dictionary Problems:"
   ]
  },
  {
   "cell_type": "markdown",
   "id": "5d7269c5",
   "metadata": {},
   "source": [
    "1. **Access Nested Dictionary**: Given a nested dictionary containing student details, write a Python program to access and print specific information such as a student's name, age, and address."
   ]
  },
  {
   "cell_type": "code",
   "execution_count": null,
   "id": "bf94b99c",
   "metadata": {},
   "outputs": [],
   "source": []
  },
  {
   "cell_type": "markdown",
   "id": "7b622d3d",
   "metadata": {},
   "source": [
    "2. **Nested Dictionary Length**: Write a Python program to calculate and print the total number of key-value pairs in a nested dictionary."
   ]
  },
  {
   "cell_type": "code",
   "execution_count": null,
   "id": "71cd5dce",
   "metadata": {},
   "outputs": [],
   "source": []
  },
  {
   "cell_type": "markdown",
   "id": "b4c07cbc",
   "metadata": {},
   "source": [
    "3. **Nested Dictionary Update**: Given a nested dictionary of employee details, write a Python program to update an employee’s salary based on their employee ID."
   ]
  },
  {
   "cell_type": "code",
   "execution_count": null,
   "id": "f30b3abc",
   "metadata": {},
   "outputs": [],
   "source": []
  },
  {
   "cell_type": "markdown",
   "id": "05b275df",
   "metadata": {},
   "source": [
    "4. **Nested Dictionary Sorting**: Given a nested dictionary containing product details (product name, price, and quantity), write a Python program to sort the products based on their prices in ascending order."
   ]
  },
  {
   "cell_type": "code",
   "execution_count": null,
   "id": "b7a42e22",
   "metadata": {},
   "outputs": [],
   "source": []
  },
  {
   "cell_type": "markdown",
   "id": "ea837bd9",
   "metadata": {},
   "source": [
    "5. **Nested Dictionary Key Search**: Write a Python program that takes a key as input and searches for it in a nested dictionary. If found, print the corresponding value, otherwise, print \"Key Not Found.\""
   ]
  },
  {
   "cell_type": "code",
   "execution_count": null,
   "id": "99c9e1ea",
   "metadata": {},
   "outputs": [],
   "source": []
  },
  {
   "cell_type": "markdown",
   "id": "04da510f",
   "metadata": {},
   "source": [
    "# Break & Continue:"
   ]
  },
  {
   "cell_type": "markdown",
   "id": "4ca50968",
   "metadata": {},
   "source": [
    "1. **Prime Number Checker**: Write a Python program that takes a number as input and determines if it is a prime number or not. Use a 'for' loop to check for factors. If a factor is found, 'break' out of the loop."
   ]
  },
  {
   "cell_type": "code",
   "execution_count": null,
   "id": "267f37f1",
   "metadata": {},
   "outputs": [],
   "source": []
  },
  {
   "cell_type": "markdown",
   "id": "c6e7b6fa",
   "metadata": {},
   "source": [
    "2. **Even Number Printer**: Write a Python program to print all even numbers from 1 to 20. Use a 'for' loop and 'continue' to skip odd numbers."
   ]
  },
  {
   "cell_type": "code",
   "execution_count": null,
   "id": "52aa4a5b",
   "metadata": {},
   "outputs": [],
   "source": []
  },
  {
   "cell_type": "markdown",
   "id": "0b8fc5ba",
   "metadata": {},
   "source": [
    "3. **Password Validator**: Write a Python program that takes a password as input and checks if it meets the following criteria: at least 8 characters long, contains both uppercase and lowercase letters, and has at least one digit. If the password is valid, print \"Password accepted.\" If not, use 'continue' to prompt the user to enter a valid password."
   ]
  },
  {
   "cell_type": "code",
   "execution_count": null,
   "id": "5d0a2fb4",
   "metadata": {},
   "outputs": [],
   "source": []
  },
  {
   "cell_type": "markdown",
   "id": "d36a4b01",
   "metadata": {},
   "source": [
    "4. **Divisible by 3 or 5**: Write a Python program to print all numbers from 1 to 50 that are divisible by either 3 or 5. Use a 'for' loop and 'continue' to skip numbers that are not divisible by either 3 or 5."
   ]
  },
  {
   "cell_type": "code",
   "execution_count": null,
   "id": "bbd63e48",
   "metadata": {},
   "outputs": [],
   "source": []
  },
  {
   "cell_type": "markdown",
   "id": "e1e5ef31",
   "metadata": {},
   "source": [
    "5. **Positive Number Sum**: Write a Python program that takes positive numbers as input until a negative number is entered. Then, calculate and print the sum of all positive numbers entered. Use a 'while' loop and 'break' to exit the loop when a negative number is encountered."
   ]
  },
  {
   "cell_type": "code",
   "execution_count": null,
   "id": "3806d8f6",
   "metadata": {},
   "outputs": [],
   "source": []
  },
  {
   "cell_type": "markdown",
   "id": "56232329",
   "metadata": {},
   "source": [
    "6. **Word Palindrome Checker**: Write a Python program that takes a word as input and checks if it is a palindrome (reads the same forwards and backward). Use 'continue' to skip checking the word if its length is less than 3 characters."
   ]
  },
  {
   "cell_type": "code",
   "execution_count": null,
   "id": "77bd14ab",
   "metadata": {},
   "outputs": [],
   "source": []
  },
  {
   "cell_type": "markdown",
   "id": "fceed480",
   "metadata": {},
   "source": [
    "# Loop Problems:"
   ]
  },
  {
   "cell_type": "markdown",
   "id": "c42d82ae",
   "metadata": {},
   "source": [
    "1. **Odd Number Finder**: Write a Python program to find the first odd number from a list of integers. Use a 'for' loop and 'break' to stop the loop when the first odd number is found."
   ]
  },
  {
   "cell_type": "code",
   "execution_count": null,
   "id": "10c53e8f",
   "metadata": {},
   "outputs": [],
   "source": []
  },
  {
   "cell_type": "markdown",
   "id": "6df7007c",
   "metadata": {},
   "source": [
    "2. **Number Guessing Game**: Write a Python program that generates a random number between 1 and 100 and lets the user guess the number. Use a 'while' loop, 'break' when the correct number is guessed, and 'continue' to keep prompting the user until they guess correctly."
   ]
  },
  {
   "cell_type": "code",
   "execution_count": null,
   "id": "52bc3d63",
   "metadata": {},
   "outputs": [],
   "source": []
  },
  {
   "cell_type": "markdown",
   "id": "5ae4c6e6",
   "metadata": {},
   "source": [
    "3. **Vowel Counter**: Write a Python program that takes a string as input and counts the number of vowels (a, e, i, o, u) in it. Use a 'for' loop and 'continue' to skip counting non-vowel characters."
   ]
  },
  {
   "cell_type": "code",
   "execution_count": null,
   "id": "03ac2500",
   "metadata": {},
   "outputs": [],
   "source": []
  },
  {
   "cell_type": "markdown",
   "id": "5fc92078",
   "metadata": {},
   "source": [
    "4. **Unique Characters**: Write a Python program that takes a string as input and checks if it contains all unique characters (no character repeats). Use a 'for' loop and 'break' when a character repeats."
   ]
  },
  {
   "cell_type": "code",
   "execution_count": null,
   "id": "611d2f76",
   "metadata": {},
   "outputs": [],
   "source": []
  },
  {
   "cell_type": "markdown",
   "id": "110c6a54",
   "metadata": {},
   "source": [
    "\n",
    "# Functions Problems:"
   ]
  },
  {
   "cell_type": "markdown",
   "id": "2389c653",
   "metadata": {},
   "source": [
    "1. **Factorial Calculator**: Write a Python function called 'factorial' that takes an integer as input and returns its factorial. Test the function with different values."
   ]
  },
  {
   "cell_type": "code",
   "execution_count": null,
   "id": "10fa19f8",
   "metadata": {},
   "outputs": [],
   "source": []
  },
  {
   "cell_type": "markdown",
   "id": "cb3ae590",
   "metadata": {},
   "source": [
    "2. **Palindrome Checker**: Write a Python function called 'is_palindrome' that takes a string as input and returns 'True' if it is a palindrome and 'False' otherwise. Test the function with different words."
   ]
  },
  {
   "cell_type": "code",
   "execution_count": null,
   "id": "e850a15e",
   "metadata": {},
   "outputs": [],
   "source": []
  },
  {
   "cell_type": "markdown",
   "id": "5f40f3d0",
   "metadata": {},
   "source": [
    "3. **Even or Odd Checker**: Write a Python function called 'even_or_odd' that takes an integer as input and returns \"Even\" if the number is even and \"Odd\" if the number is odd. Test the function with different numbers."
   ]
  },
  {
   "cell_type": "code",
   "execution_count": null,
   "id": "c5b1fdab",
   "metadata": {},
   "outputs": [],
   "source": []
  },
  {
   "cell_type": "markdown",
   "id": "9f8f21ce",
   "metadata": {},
   "source": [
    "4. **List Sum Calculator**: Write a Python function called 'list_sum' that takes a list of integers as input and returns the sum of all elements in the list. Test the function with different lists."
   ]
  },
  {
   "cell_type": "code",
   "execution_count": null,
   "id": "546633b8",
   "metadata": {},
   "outputs": [],
   "source": []
  },
  {
   "cell_type": "markdown",
   "id": "447e6837",
   "metadata": {},
   "source": [
    "5. **Greatest Common Divisor (GCD) Calculator**: Write a Python function called 'gcd' that takes two integers as input and returns their greatest common divisor. Test the function with different pairs of numbers."
   ]
  },
  {
   "cell_type": "code",
   "execution_count": null,
   "id": "31a88f32",
   "metadata": {},
   "outputs": [],
   "source": []
  },
  {
   "cell_type": "markdown",
   "id": "1fe99cf1",
   "metadata": {},
   "source": [
    "6. **Leap Year Checker**: Write a Python function called 'is_leap_year' that takes a year as input and returns 'True' if it is a leap year and 'False' otherwise. Test the function with different years."
   ]
  },
  {
   "cell_type": "code",
   "execution_count": null,
   "id": "87842d55",
   "metadata": {},
   "outputs": [],
   "source": []
  },
  {
   "cell_type": "markdown",
   "id": "e0ed65be",
   "metadata": {},
   "source": [
    "# Nested Functions Problems:"
   ]
  },
  {
   "cell_type": "markdown",
   "id": "50f89728",
   "metadata": {},
   "source": [
    "1. **Math Operations**: Write a Python function called 'math_operations' that takes three numbers and a string representing an operation ('add', 'subtract', 'multiply', or 'divide'). The function should return the result of the specified operation on the three numbers. Implement the math operations as nested functions."
   ]
  },
  {
   "cell_type": "code",
   "execution_count": null,
   "id": "ff783cfe",
   "metadata": {},
   "outputs": [],
   "source": []
  },
  {
   "cell_type": "markdown",
   "id": "0bb7d49a",
   "metadata": {},
   "source": [
    "2. **Greeting Generator**: Write a Python function called 'greeting_generator' that takes a name as input and returns a greeting message using nested functions. The greeting message should be customizable (e.g., \"Hello, {name}! How are you today?\")."
   ]
  },
  {
   "cell_type": "code",
   "execution_count": null,
   "id": "b883ef97",
   "metadata": {},
   "outputs": [],
   "source": []
  },
  {
   "cell_type": "markdown",
   "id": "3cb9e23f",
   "metadata": {},
   "source": [
    "3. **Temperature Converter**: Write a Python function called 'temperature_converter' that takes a temperature value and a string representing the scale ('C' for Celsius or 'F' for Fahrenheit) as input. The function should convert the temperature from one scale to the other using nested functions and return the converted value."
   ]
  },
  {
   "cell_type": "code",
   "execution_count": null,
   "id": "fc203bc8",
   "metadata": {},
   "outputs": [],
   "source": []
  },
  {
   "cell_type": "markdown",
   "id": "3f01e65a",
   "metadata": {},
   "source": [
    "# Recursion Problems:"
   ]
  },
  {
   "cell_type": "markdown",
   "id": "52b4afac",
   "metadata": {},
   "source": [
    "1. **Factorial Calculation**: Write a recursive Python function called `factorial` that takes a non-negative integer as input and returns its factorial."
   ]
  },
  {
   "cell_type": "code",
   "execution_count": null,
   "id": "5537a6de",
   "metadata": {},
   "outputs": [],
   "source": []
  },
  {
   "cell_type": "markdown",
   "id": "b26a0868",
   "metadata": {},
   "source": [
    "2. **Fibonacci Series**: Write a recursive Python function called `Fibonacci` that takes an integer N as input and returns the Nth number in the Fibonacci series. The Fibonacci series is defined as follows: F(0) = 0, F(1) = 1, and F(n) = F(n-1) + F(n-2) for n > 1."
   ]
  },
  {
   "cell_type": "code",
   "execution_count": null,
   "id": "947cd7bd",
   "metadata": {},
   "outputs": [],
   "source": []
  },
  {
   "cell_type": "markdown",
   "id": "c9a78494",
   "metadata": {},
   "source": [
    "3. **The Sum of Digits**: Write a recursive Python function called `sum_of_digits` that takes an integer as input and returns the sum of its digits."
   ]
  },
  {
   "cell_type": "code",
   "execution_count": null,
   "id": "3e088df7",
   "metadata": {},
   "outputs": [],
   "source": []
  },
  {
   "cell_type": "markdown",
   "id": "706b509a",
   "metadata": {},
   "source": [
    "4. **Binary Search**: Write a recursive Python function called `binary_search` that takes a sorted list and a target value as input and returns the index of the target value in the list using binary search. If the target value is not in the list, return -1."
   ]
  },
  {
   "cell_type": "code",
   "execution_count": null,
   "id": "a445c617",
   "metadata": {},
   "outputs": [],
   "source": []
  },
  {
   "cell_type": "markdown",
   "id": "b72e6edb",
   "metadata": {},
   "source": [
    "5. **Power Calculation**: Write a recursive Python function called `power` that takes two positive integers, base and exponent, as input and returns the value of base raised to the exponent."
   ]
  },
  {
   "cell_type": "code",
   "execution_count": null,
   "id": "e259f046",
   "metadata": {},
   "outputs": [],
   "source": []
  },
  {
   "cell_type": "markdown",
   "id": "7ef107b8",
   "metadata": {},
   "source": []
  }
 ],
 "metadata": {
  "kernelspec": {
   "display_name": "Python 3 (ipykernel)",
   "language": "python",
   "name": "python3"
  },
  "language_info": {
   "codemirror_mode": {
    "name": "ipython",
    "version": 3
   },
   "file_extension": ".py",
   "mimetype": "text/x-python",
   "name": "python",
   "nbconvert_exporter": "python",
   "pygments_lexer": "ipython3",
   "version": "3.11.4"
  }
 },
 "nbformat": 4,
 "nbformat_minor": 5
}
